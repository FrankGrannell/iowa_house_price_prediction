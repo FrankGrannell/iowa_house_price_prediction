{
 "cells": [
  {
   "cell_type": "markdown",
   "id": "138fed84",
   "metadata": {},
   "source": [
    "# Iowa house price prediction\n",
    "### using DecisionTreeRegressor\n",
    "#### By Comparing Different Tree Sizes and chooing the right size"
   ]
  },
  {
   "cell_type": "code",
   "execution_count": 1,
   "id": "47f95f7e",
   "metadata": {},
   "outputs": [],
   "source": [
    "# Code you have previously used to load data\n",
    "import pandas as pd\n",
    "from sklearn.metrics import mean_absolute_error\n",
    "from sklearn.model_selection import train_test_split\n",
    "from sklearn.tree import DecisionTreeRegressor"
   ]
  },
  {
   "cell_type": "code",
   "execution_count": 2,
   "id": "2cb1a85e",
   "metadata": {},
   "outputs": [
    {
     "data": {
      "application/javascript": [
       "\n",
       "        if (window._pyforest_update_imports_cell) { window._pyforest_update_imports_cell('import os'); }\n",
       "    "
      ],
      "text/plain": [
       "<IPython.core.display.Javascript object>"
      ]
     },
     "metadata": {},
     "output_type": "display_data"
    }
   ],
   "source": [
    "# Path of the file to read\n",
    "subdirectory = \"data\"\n",
    "filename = \"data.csv\"\n",
    "\n",
    "# Construct the full file path\n",
    "file_path = os.path.join(subdirectory, filename)"
   ]
  },
  {
   "cell_type": "code",
   "execution_count": 3,
   "id": "de6ca9c8",
   "metadata": {},
   "outputs": [],
   "source": [
    "home_data = pd.read_csv(file_path)\n",
    "#home_data.describe()"
   ]
  },
  {
   "cell_type": "code",
   "execution_count": 4,
   "id": "abd2bd1d",
   "metadata": {},
   "outputs": [],
   "source": [
    "#  >> 1. Split data in to features and target -------------------\n",
    "y = home_data.price\n",
    "\n",
    "features = ['bedrooms', 'bathrooms', 'sqft_living', 'sqft_lot', 'floors', 'waterfront', 'view','condition','sqft_above','sqft_basement','yr_built','yr_renovated']\n",
    "X = home_data[features]\n",
    "#  <<  1. Split data in to features and target -------------------\n",
    "\n",
    "\n",
    "#  >>  2. Split into validation and training data-----------------\n",
    "train_X, val_X, train_y, val_y = train_test_split(X, y, random_state=1)\n",
    "#  <<  2. Split into validation and training data-----------------"
   ]
  },
  {
   "cell_type": "code",
   "execution_count": 5,
   "id": "08c8d83c",
   "metadata": {},
   "outputs": [],
   "source": [
    "#  >> 3. Create function to retuen Mean Absolute Error (MAE) for givem number of leaves -------------------\n",
    "def get_mae(max_leaf_nodes, train_X, val_X, train_y, val_y):\n",
    "    model = DecisionTreeRegressor(max_leaf_nodes=max_leaf_nodes, random_state=0)\n",
    "    model.fit(train_X, train_y)\n",
    "    preds_val = model.predict(val_X)\n",
    "    mae = mean_absolute_error(val_y, preds_val)\n",
    "    return(mae)\n",
    "#  << 3. Create function to retuen Mean Absolute Error (MAE) for givem number of leaves -------------------"
   ]
  },
  {
   "cell_type": "code",
   "execution_count": 6,
   "id": "59eb258a",
   "metadata": {},
   "outputs": [],
   "source": [
    "#  >> 4. Create list with number of leaves notes for testing -------------------\n",
    "candidate_max_leaf_nodes =  [x for x in range(2, 200)]\n",
    "#print(candidate_max_leaf_nodes)\n",
    "#  << 4. Create list with number of leaves notes for testing -------------------"
   ]
  },
  {
   "cell_type": "code",
   "execution_count": 7,
   "id": "a40af81c",
   "metadata": {},
   "outputs": [
    {
     "name": "stdout",
     "output_type": "stream",
     "text": [
      "7\n"
     ]
    }
   ],
   "source": [
    "#  >> 5. Find best leaves size -------------------\n",
    "scores = {leaf_size: get_mae(leaf_size, train_X, val_X, train_y, val_y) for leaf_size in candidate_max_leaf_nodes}\n",
    "best_tree_size = min(scores, key=scores.get)\n",
    "\n",
    "#print(best_tree_size)\n",
    "#  >> 5. Find best leaves size -------------------"
   ]
  },
  {
   "cell_type": "code",
   "execution_count": 8,
   "id": "532de36d",
   "metadata": {},
   "outputs": [
    {
     "data": {
      "text/plain": [
       "DecisionTreeRegressor(max_leaf_nodes=7, random_state=1)"
      ]
     },
     "execution_count": 8,
     "metadata": {},
     "output_type": "execute_result"
    }
   ],
   "source": [
    "#  >> 6. Specify and fit the mode  --------------------------------------\n",
    "final_model = DecisionTreeRegressor(max_leaf_nodes=best_tree_size, random_state=1)\n",
    "\n",
    "# fit the final model and uncomment the next two lines\n",
    "final_model.fit(X, y)\n",
    "#  << 6. Specify and fit the mode  --------------------------------------"
   ]
  },
  {
   "cell_type": "code",
   "execution_count": 9,
   "id": "2d366206",
   "metadata": {},
   "outputs": [
    {
     "name": "stdout",
     "output_type": "stream",
     "text": [
      "Validation MAE: 183,299\n"
     ]
    }
   ],
   "source": [
    "#  >> 7. Predict ------------------------------------------------\n",
    "val_predictions = final_model.predict(val_X)\n",
    "#  >> 7. Predict ------------------------------------------------\n",
    "\n",
    "#  >> 8. calculate mean absolute error --------------------------\n",
    "val_mae = mean_absolute_error(val_predictions, val_y)\n",
    "#  << 8. calculate mean absolute error --------------------------\n",
    "\n",
    "print(\"Validation MAE: {:,.0f}\".format(val_mae))\n"
   ]
  },
  {
   "cell_type": "code",
   "execution_count": 10,
   "id": "660cabc0",
   "metadata": {},
   "outputs": [
    {
     "name": "stdout",
     "output_type": "stream",
     "text": [
      "7\n"
     ]
    }
   ],
   "source": [
    "print(best_tree_size)"
   ]
  }
 ],
 "metadata": {
  "kernelspec": {
   "display_name": "Python 3",
   "language": "python",
   "name": "python3"
  },
  "language_info": {
   "codemirror_mode": {
    "name": "ipython",
    "version": 3
   },
   "file_extension": ".py",
   "mimetype": "text/x-python",
   "name": "python",
   "nbconvert_exporter": "python",
   "pygments_lexer": "ipython3",
   "version": "3.9.6"
  }
 },
 "nbformat": 4,
 "nbformat_minor": 5
}
